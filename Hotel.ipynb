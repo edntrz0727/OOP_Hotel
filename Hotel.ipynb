{
 "cells": [
  {
   "cell_type": "code",
   "execution_count": null,
   "id": "843ce722-4703-4d9e-ba47-dc5008ea2bf1",
   "metadata": {},
   "outputs": [],
   "source": [
    "class Hotel():\n",
    "        def __init__(self,name,price,address,rate,star,reviews):\n",
    "            self.__name = name\n",
    "            self.price = price #這是可以改的嗎？或許會有打折\n",
    "            self.__address = address #需要分區嗎？ 城市 / district\n",
    "            self.rate = rate\n",
    "            self.__star = star #星級飯店\n",
    "            self.reviews = reviews #有幾則評論\n",
    "        def getName(self):\n",
    "            print(self.__name)\n",
    "        def showPrice(self):\n",
    "            print(self.price)\n",
    "        def getAddress(self):\n",
    "            print(self.__address)\n",
    "        def getRate(self):\n",
    "            print(self.rate)\n",
    "        def getStar(self):\n",
    "            print(self.__star)\n",
    "        def modifyRate(self,newRate):\n",
    "            tmp = self.rate * self.reviews\n",
    "            self.reviews += 1\n",
    "            self.rate = (tmp + newRate) / self.reviews"
   ]
  },
  {
   "cell_type": "code",
   "execution_count": null,
   "id": "40585c6e-6cb3-47fe-81fa-062a8d12d300",
   "metadata": {},
   "outputs": [],
   "source": []
  },
  {
   "cell_type": "code",
   "execution_count": null,
   "id": "0f6b32b8-140a-44cf-a2dc-b7dc6dde471e",
   "metadata": {},
   "outputs": [],
   "source": []
  }
 ],
 "metadata": {
  "kernelspec": {
   "display_name": "Python 3 (ipykernel)",
   "language": "python",
   "name": "python3"
  },
  "language_info": {
   "codemirror_mode": {
    "name": "ipython",
    "version": 3
   },
   "file_extension": ".py",
   "mimetype": "text/x-python",
   "name": "python",
   "nbconvert_exporter": "python",
   "pygments_lexer": "ipython3",
   "version": "3.11.5"
  }
 },
 "nbformat": 4,
 "nbformat_minor": 5
}
